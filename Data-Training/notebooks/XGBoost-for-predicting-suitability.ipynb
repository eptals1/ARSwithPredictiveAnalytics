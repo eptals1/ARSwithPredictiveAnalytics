{
 "cells": [
  {
   "cell_type": "code",
   "execution_count": 1,
   "metadata": {},
   "outputs": [
    {
     "name": "stderr",
     "output_type": "stream",
     "text": [
      "[nltk_data] Downloading package stopwords to\n",
      "[nltk_data]     C:\\Users\\Acer\\AppData\\Roaming\\nltk_data...\n",
      "[nltk_data]   Package stopwords is already up-to-date!\n",
      "[nltk_data] Downloading package punkt to\n",
      "[nltk_data]     C:\\Users\\Acer\\AppData\\Roaming\\nltk_data...\n",
      "[nltk_data]   Package punkt is already up-to-date!\n"
     ]
    },
    {
     "data": {
      "text/plain": [
       "True"
      ]
     },
     "execution_count": 1,
     "metadata": {},
     "output_type": "execute_result"
    }
   ],
   "source": [
    "import pandas as pd\n",
    "import re\n",
    "import string\n",
    "import numpy as np\n",
    "import xgboost as xgb\n",
    "from sklearn.feature_extraction.text import TfidfVectorizer\n",
    "from sklearn.model_selection import train_test_split\n",
    "from sklearn.preprocessing import LabelEncoder\n",
    "from sklearn.metrics import accuracy_score, classification_report\n",
    "import nltk\n",
    "from nltk.corpus import stopwords\n",
    "from nltk.tokenize import word_tokenize\n",
    "\n",
    "# Download NLTK resources\n",
    "nltk.download('stopwords')\n",
    "nltk.download('punkt')"
   ]
  },
  {
   "cell_type": "code",
   "execution_count": 7,
   "metadata": {},
   "outputs": [],
   "source": [
    "\n",
    "# Load Dataset\n",
    "df = pd.read_csv(\"C:/Users/Acer/Desktop/Talaba,Ephraim/ARSwithPredictiveAnalytics/resume-dataset/Resume/Resume.csv\")  # Update with the correct filename\n",
    "\n",
    "# Drop rows with missing values\n",
    "df.dropna(inplace=True)\n",
    "\n",
    "# Define stopwords\n",
    "stop_words = set(stopwords.words('english'))\n",
    "\n",
    "import inflect\n",
    "\n",
    "# Initialize the number-to-word converter\n",
    "p = inflect.engine()\n",
    "\n",
    "def convert_numbers_to_words(text):\n",
    "    words = text.split()\n",
    "    converted_words = [p.number_to_words(word) if word.isdigit() else word for word in words]\n",
    "    return \" \".join(converted_words)\n",
    "\n",
    "def preprocess_text(text):\n",
    "    # Convert to lowercase\n",
    "    text = text.lower()\n",
    "\n",
    "    # Remove special characters, punctuation, and extra spaces\n",
    "    text = re.sub(r'\\s+', ' ', text)  # Remove extra spaces\n",
    "    text = re.sub(f\"[{string.punctuation}]\", \"\", text)  # Remove punctuation\n",
    "\n",
    "    # Convert numbers to words\n",
    "    text = convert_numbers_to_words(text)\n",
    "\n",
    "    # Tokenization\n",
    "    words = word_tokenize(text)\n",
    "\n",
    "    # Remove stopwords\n",
    "    words = [word for word in words if word not in stop_words]\n",
    "\n",
    "    return \" \".join(words)\n",
    "\n",
    "\n",
    "# Apply preprocessing to resume text\n",
    "df[\"Resume_str\"] = df[\"Resume_str\"].apply(preprocess_text)"
   ]
  },
  {
   "cell_type": "code",
   "execution_count": 12,
   "metadata": {},
   "outputs": [],
   "source": [
    "import numpy as np\n",
    "import pandas as pd\n",
    "import xgboost as xgb\n",
    "from sklearn.feature_extraction.text import TfidfVectorizer\n",
    "from sklearn.preprocessing import LabelEncoder\n",
    "from sklearn.model_selection import train_test_split\n",
    "\n",
    "# Load dataset\n",
    "df = pd.read_csv(\"C:/Users/Acer/Desktop/Talaba,Ephraim/ARSwithPredictiveAnalytics/resume-dataset/Resume/Resume.csv\")\n",
    "\n",
    "# Encode job roles\n",
    "label_encoder = LabelEncoder()\n",
    "y_encoded = label_encoder.fit_transform(df[\"Job Roles\"])\n",
    "\n",
    "# Fix missing class labels by re-mapping to sequential values\n",
    "unique_classes = np.unique(y_encoded)\n",
    "class_mapping = {old_label: new_label for new_label, old_label in enumerate(unique_classes)}\n",
    "y = np.array([class_mapping[label] for label in y_encoded])  # Re-map labels\n",
    "\n",
    "# Convert text data to TF-IDF features\n",
    "tfidf = TfidfVectorizer(max_features=5000)\n",
    "X = tfidf.fit_transform(df[\"Resume_str\"]).toarray()\n",
    "\n",
    "# Split dataset into training (80%) and testing (20%)\n",
    "X_train, X_test, y_train, y_test = train_test_split(X, y, test_size=0.2, random_state=42)\n",
    "\n",
    "# Initialize XGBoost Classifier with corrected number of classes\n",
    "xgb_model = xgb.XGBClassifier(objective='multi:softmax', num_class=len(unique_classes), eval_metric=\"mlogloss\")\n",
    "\n",
    "# Train the model\n",
    "xgb_model.fit(X_train, y_train)\n",
    "\n",
    "# Make predictions\n",
    "y_pred = xgb_model.predict(X_test)\n"
   ]
  },
  {
   "cell_type": "code",
   "execution_count": 14,
   "metadata": {},
   "outputs": [
    {
     "name": "stdout",
     "output_type": "stream",
     "text": [
      "Accuracy: 0.7565\n",
      "\n",
      "Classification Report:\n",
      "                         precision    recall  f1-score   support\n",
      "\n",
      "            ACCOUNTANT       0.76      0.90      0.82        31\n",
      "              ADVOCATE       0.81      0.81      0.81        31\n",
      "           AGRICULTURE       0.80      0.36      0.50        11\n",
      "               APPAREL       0.50      0.39      0.44        18\n",
      "             ARCHITECT       0.73      0.33      0.46        24\n",
      "                  ARTS       0.50      0.29      0.36         7\n",
      "            AUTOMOBILE       0.74      0.91      0.82        22\n",
      "              AVIATION       0.72      0.62      0.67        21\n",
      "               BANKING       0.50      0.50      0.50         2\n",
      "                   BPO       0.65      0.74      0.69        23\n",
      "  BUSINESS-DEVELOPMENT       0.88      0.92      0.90        24\n",
      "                  CHEF       0.86      0.80      0.83        30\n",
      "          CONSTRUCTION       0.50      0.60      0.55        15\n",
      "            CONSULTANT       0.83      1.00      0.90        19\n",
      "              DESIGNER       0.61      0.61      0.61        18\n",
      "         DIGITAL-MEDIA       0.75      0.86      0.80        21\n",
      "           ENGINEERING       0.81      0.79      0.80        28\n",
      "               FINANCE       0.79      0.88      0.83        25\n",
      "               FITNESS       0.78      0.70      0.74        20\n",
      "            HEALTHCARE       0.80      0.89      0.84        18\n",
      "                    HR       0.81      1.00      0.90        26\n",
      "INFORMATION-TECHNOLOGY       0.75      0.80      0.77        15\n",
      "      PUBLIC-RELATIONS       0.82      0.69      0.75        26\n",
      "                 SALES       0.78      0.82      0.80        22\n",
      "\n",
      "              accuracy                           0.76       497\n",
      "             macro avg       0.73      0.72      0.71       497\n",
      "          weighted avg       0.75      0.76      0.75       497\n",
      "\n"
     ]
    }
   ],
   "source": [
    "from sklearn.metrics import accuracy_score, classification_report\n",
    "\n",
    "# Evaluate the model\n",
    "accuracy = accuracy_score(y_test, y_pred)\n",
    "print(f\"Accuracy: {accuracy:.4f}\")\n",
    "\n",
    "# Fix classification report issue\n",
    "print(\"\\nClassification Report:\\n\", classification_report(y_test, y_pred, labels=np.unique(y_test), target_names=label_encoder.classes_[:len(np.unique(y_test))]))\n"
   ]
  },
  {
   "cell_type": "code",
   "execution_count": 15,
   "metadata": {},
   "outputs": [
    {
     "name": "stdout",
     "output_type": "stream",
     "text": [
      "Model, TF-IDF vectorizer, and Label Encoder saved successfully!\n"
     ]
    }
   ],
   "source": [
    "import pickle\n",
    "\n",
    "# Save the XGBoost model\n",
    "with open('xgb_model.pkl', 'wb') as model_file:\n",
    "    pickle.dump(xgb_model, model_file)\n",
    "\n",
    "# Save the TF-IDF vectorizer\n",
    "with open('tfidf.pkl', 'wb') as tfidf_file:\n",
    "    pickle.dump(tfidf, tfidf_file)\n",
    "\n",
    "# Save the Label Encoder\n",
    "with open('label_encoder.pkl', 'wb') as encoder_file:\n",
    "    pickle.dump(label_encoder, encoder_file)\n",
    "\n",
    "print(\"Model, TF-IDF vectorizer, and Label Encoder saved successfully!\")\n"
   ]
  }
 ],
 "metadata": {
  "kernelspec": {
   "display_name": "Python 3",
   "language": "python",
   "name": "python3"
  },
  "language_info": {
   "codemirror_mode": {
    "name": "ipython",
    "version": 3
   },
   "file_extension": ".py",
   "mimetype": "text/x-python",
   "name": "python",
   "nbconvert_exporter": "python",
   "pygments_lexer": "ipython3",
   "version": "3.9.0"
  }
 },
 "nbformat": 4,
 "nbformat_minor": 2
}

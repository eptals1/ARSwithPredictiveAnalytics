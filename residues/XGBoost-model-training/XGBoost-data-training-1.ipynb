{
 "cells": [
  {
   "cell_type": "markdown",
   "metadata": {},
   "source": [
    "TF-IDF Job Requirement Features"
   ]
  },
  {
   "cell_type": "code",
   "execution_count": null,
   "metadata": {},
   "outputs": [],
   "source": [
    "import pandas as pd\n",
    "from sklearn.feature_extraction.text import TfidfVectorizer\n",
    "\n",
    "# Load dataset\n",
    "df = pd.read_excel(\"XGBoost-model-training/resumes.xlsx\")\n",
    "\n",
    "# Fill NaN values in Job Requirement\n",
    "df[\"Job Requirement\"] = df[\"Job Requirement\"].fillna(\"\")\n",
    "\n",
    "# Dynamically set max_features based on vocabulary size\n",
    "max_features = min(8, len(set(\" \".join(df[\"Job Requirement\"]).split())))\n",
    "vectorizer = TfidfVectorizer(max_features=max_features)\n",
    "\n",
    "# Transform job requirements into numerical features\n",
    "job_requirement_features = vectorizer.fit_transform(df[\"Job Requirement\"]).toarray()\n",
    "num_features = job_requirement_features.shape[1]  # Get actual feature count\n",
    "\n",
    "# Convert to DataFrame\n",
    "job_req_df = pd.DataFrame(job_requirement_features, columns=[f\"job_feature_{i}\" for i in range(num_features)])\n",
    "\n",
    "# Merge with original dataset (excluding original text column)\n",
    "df = df.drop(columns=[\"Job Requirement\"])\n",
    "df = pd.concat([df, job_req_df], axis=1)\n",
    "\n",
    "# Save the processed dataset\n",
    "df.to_csv(\"processed_resumes.csv\", index=False)\n",
    "\n",
    "print(f\"Successfully processed {df.shape[0]} resumes with {num_features} job requirement features!\")"
   ]
  },
  {
   "cell_type": "markdown",
   "metadata": {},
   "source": [
    "1️⃣ Load & Preprocess the Data\n",
    "First, load your preprocessed_resumes.csv that includes both structured features (Age, Gender, etc.) and TF-IDF job requirement features (job_feature_0 to job_feature_n)."
   ]
  },
  {
   "cell_type": "code",
   "execution_count": 9,
   "metadata": {},
   "outputs": [
    {
     "name": "stdout",
     "output_type": "stream",
     "text": [
      "Training Samples: 560, Testing Samples: 140\n"
     ]
    }
   ],
   "source": [
    "import pandas as pd\n",
    "from sklearn.model_selection import train_test_split\n",
    "from sklearn.preprocessing import LabelEncoder\n",
    "\n",
    "# Load dataset\n",
    "df = pd.read_csv(\"C:/Users/Acer/Desktop/Talaba,Ephraim/ARSwithPredictiveAnalytics/XGBoost-model-training/processed_resumes.csv\")\n",
    "\n",
    "# Convert categorical columns to numeric (Label Encoding)\n",
    "categorical_cols = [\"Gender\", \"Address\", \"Skills\", \"Education\", \"Work Experience\", \"Certificates\", \"Course\"]\n",
    "\n",
    "for col in categorical_cols:\n",
    "    df[col] = df[col].astype(str)  # Ensure it's string type\n",
    "    df[col] = LabelEncoder().fit_transform(df[col])\n",
    "\n",
    "# Separate features and labels\n",
    "X = df.drop(columns=[\"Hired\"])  # Features (resume attributes + job requirement features)\n",
    "y = df[\"Hired\"]  # Target (1 = Suitable, 0 = Not Suitable)\n",
    "\n",
    "# Split into Train & Test Set (80%-20%)\n",
    "X_train, X_test, y_train, y_test = train_test_split(X, y, test_size=0.2, random_state=42)\n",
    "\n",
    "print(f\"Training Samples: {X_train.shape[0]}, Testing Samples: {X_test.shape[0]}\")\n"
   ]
  },
  {
   "cell_type": "markdown",
   "metadata": {},
   "source": [
    "2️⃣ Train the XGBoost Model\n",
    "Now, we train the XGBoost classifier to predict suitability."
   ]
  },
  {
   "cell_type": "code",
   "execution_count": 10,
   "metadata": {},
   "outputs": [
    {
     "name": "stdout",
     "output_type": "stream",
     "text": [
      "✅ XGBoost Model Trained and Saved!\n"
     ]
    },
    {
     "name": "stderr",
     "output_type": "stream",
     "text": [
      "c:\\Users\\Acer\\AppData\\Local\\Programs\\Python\\Python311\\Lib\\site-packages\\xgboost\\core.py:158: UserWarning: [12:02:22] WARNING: C:\\buildkite-agent\\builds\\buildkite-windows-cpu-autoscaling-group-i-08cbc0333d8d4aae1-1\\xgboost\\xgboost-ci-windows\\src\\learner.cc:740: \n",
      "Parameters: { \"use_label_encoder\" } are not used.\n",
      "\n",
      "  warnings.warn(smsg, UserWarning)\n"
     ]
    }
   ],
   "source": [
    "import xgboost as xgb\n",
    "\n",
    "# Create the XGBoost classifier\n",
    "model = xgb.XGBClassifier(\n",
    "    objective=\"binary:logistic\",  # Binary classification\n",
    "    eval_metric=\"logloss\",\n",
    "    use_label_encoder=False\n",
    ")\n",
    "\n",
    "# Train the model\n",
    "model.fit(X_train, y_train)\n",
    "\n",
    "# Save the trained model\n",
    "model.save_model(\"trained-XGBoost-model/xgboost_model.json\")\n",
    "\n",
    "print(\"✅ XGBoost Model Trained and Saved!\")\n"
   ]
  },
  {
   "cell_type": "markdown",
   "metadata": {},
   "source": [
    "3️⃣ Evaluate Model Performance\n",
    "After training, check how well the model predicts candidate suitability."
   ]
  },
  {
   "cell_type": "code",
   "execution_count": 11,
   "metadata": {},
   "outputs": [
    {
     "name": "stdout",
     "output_type": "stream",
     "text": [
      "🎯 Model Accuracy: 78.57%\n",
      "              precision    recall  f1-score   support\n",
      "\n",
      "           0       0.85      0.88      0.87       112\n",
      "           1       0.46      0.39      0.42        28\n",
      "\n",
      "    accuracy                           0.79       140\n",
      "   macro avg       0.66      0.64      0.65       140\n",
      "weighted avg       0.77      0.79      0.78       140\n",
      "\n"
     ]
    }
   ],
   "source": [
    "from sklearn.metrics import accuracy_score, classification_report\n",
    "\n",
    "# Make predictions\n",
    "y_pred = model.predict(X_test)\n",
    "\n",
    "# Evaluate accuracy\n",
    "accuracy = accuracy_score(y_test, y_pred)\n",
    "print(f\"🎯 Model Accuracy: {accuracy * 100:.2f}%\")\n",
    "\n",
    "# Print classification report\n",
    "print(classification_report(y_test, y_pred))\n"
   ]
  },
  {
   "cell_type": "code",
   "execution_count": null,
   "metadata": {},
   "outputs": [],
   "source": []
  }
 ],
 "metadata": {
  "kernelspec": {
   "display_name": "Python 3",
   "language": "python",
   "name": "python3"
  },
  "language_info": {
   "codemirror_mode": {
    "name": "ipython",
    "version": 3
   },
   "file_extension": ".py",
   "mimetype": "text/x-python",
   "name": "python",
   "nbconvert_exporter": "python",
   "pygments_lexer": "ipython3",
   "version": "3.11.0"
  }
 },
 "nbformat": 4,
 "nbformat_minor": 2
}

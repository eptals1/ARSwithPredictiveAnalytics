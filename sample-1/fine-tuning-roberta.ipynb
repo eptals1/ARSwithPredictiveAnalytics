{
 "cells": [
  {
   "cell_type": "markdown",
   "metadata": {},
   "source": [
    "🔹 Step 1: Install Required Libraries\n"
   ]
  },
  {
   "cell_type": "code",
   "execution_count": 2,
   "metadata": {},
   "outputs": [
    {
     "name": "stdout",
     "output_type": "stream",
     "text": [
      "Note: you may need to restart the kernel to use updated packages.Requirement already satisfied: transformers in c:\\users\\acer\\appdata\\local\\programs\\python\\python311\\lib\\site-packages (4.48.3)\n",
      "Requirement already satisfied: datasets in c:\\users\\acer\\appdata\\local\\programs\\python\\python311\\lib\\site-packages (3.3.1)\n",
      "Requirement already satisfied: seqeval in c:\\users\\acer\\appdata\\local\\programs\\python\\python311\\lib\\site-packages (1.2.2)\n",
      "Requirement already satisfied: torch in c:\\users\\acer\\appdata\\local\\programs\\python\\python311\\lib\\site-packages (2.6.0)\n",
      "Requirement already satisfied: pandas in c:\\users\\acer\\appdata\\local\\programs\\python\\python311\\lib\\site-packages (2.2.3)\n",
      "Requirement already satisfied: scikit-learn in c:\\users\\acer\\appdata\\local\\programs\\python\\python311\\lib\\site-packages (1.6.1)\n",
      "Requirement already satisfied: filelock in c:\\users\\acer\\appdata\\local\\programs\\python\\python311\\lib\\site-packages (from transformers) (3.17.0)\n",
      "Requirement already satisfied: huggingface-hub<1.0,>=0.24.0 in c:\\users\\acer\\appdata\\local\\programs\\python\\python311\\lib\\site-packages (from transformers) (0.28.1)\n",
      "Requirement already satisfied: numpy>=1.17 in c:\\users\\acer\\appdata\\local\\programs\\python\\python311\\lib\\site-packages (from transformers) (1.26.4)\n",
      "Requirement already satisfied: packaging>=20.0 in c:\\users\\acer\\appdata\\local\\programs\\python\\python311\\lib\\site-packages (from transformers) (24.2)\n",
      "Requirement already satisfied: pyyaml>=5.1 in c:\\users\\acer\\appdata\\local\\programs\\python\\python311\\lib\\site-packages (from transformers) (6.0.2)\n",
      "Requirement already satisfied: regex!=2019.12.17 in c:\\users\\acer\\appdata\\local\\programs\\python\\python311\\lib\\site-packages (from transformers) (2024.11.6)\n",
      "Requirement already satisfied: requests in c:\\users\\acer\\appdata\\local\\programs\\python\\python311\\lib\\site-packages (from transformers) (2.32.3)\n",
      "Requirement already satisfied: tokenizers<0.22,>=0.21 in c:\\users\\acer\\appdata\\local\\programs\\python\\python311\\lib\\site-packages (from transformers) (0.21.0)\n",
      "Requirement already satisfied: safetensors>=0.4.1 in c:\\users\\acer\\appdata\\local\\programs\\python\\python311\\lib\\site-packages (from transformers) (0.5.2)\n",
      "Requirement already satisfied: tqdm>=4.27 in c:\\users\\acer\\appdata\\local\\programs\\python\\python311\\lib\\site-packages (from transformers) (4.67.1)\n",
      "Requirement already satisfied: pyarrow>=15.0.0 in c:\\users\\acer\\appdata\\local\\programs\\python\\python311\\lib\\site-packages (from datasets) (19.0.0)\n",
      "Requirement already satisfied: dill<0.3.9,>=0.3.0 in c:\\users\\acer\\appdata\\local\\programs\\python\\python311\\lib\\site-packages (from datasets) (0.3.8)\n",
      "Requirement already satisfied: xxhash in c:\\users\\acer\\appdata\\local\\programs\\python\\python311\\lib\\site-packages (from datasets) (3.5.0)\n",
      "Requirement already satisfied: multiprocess<0.70.17 in c:\\users\\acer\\appdata\\local\\programs\\python\\python311\\lib\\site-packages (from datasets) (0.70.16)\n",
      "Requirement already satisfied: fsspec[http]<=2024.12.0,>=2023.1.0 in c:\\users\\acer\\appdata\\local\\programs\\python\\python311\\lib\\site-packages (from datasets) (2024.12.0)\n",
      "Requirement already satisfied: aiohttp in c:\\users\\acer\\appdata\\local\\programs\\python\\python311\\lib\\site-packages (from datasets) (3.11.12)\n",
      "Requirement already satisfied: typing-extensions>=4.10.0 in c:\\users\\acer\\appdata\\local\\programs\\python\\python311\\lib\\site-packages (from torch) (4.12.2)\n",
      "Requirement already satisfied: networkx in c:\\users\\acer\\appdata\\local\\programs\\python\\python311\\lib\\site-packages (from torch) (3.4.2)\n",
      "Requirement already satisfied: jinja2 in c:\\users\\acer\\appdata\\local\\programs\\python\\python311\\lib\\site-packages (from torch) (3.1.5)\n",
      "Requirement already satisfied: sympy==1.13.1 in c:\\users\\acer\\appdata\\local\\programs\\python\\python311\\lib\\site-packages (from torch) (1.13.1)\n",
      "Requirement already satisfied: mpmath<1.4,>=1.1.0 in c:\\users\\acer\\appdata\\local\\programs\\python\\python311\\lib\\site-packages (from sympy==1.13.1->torch) (1.3.0)\n",
      "Requirement already satisfied: python-dateutil>=2.8.2 in c:\\users\\acer\\appdata\\local\\programs\\python\\python311\\lib\\site-packages (from pandas) (2.9.0.post0)\n",
      "Requirement already satisfied: pytz>=2020.1 in c:\\users\\acer\\appdata\\local\\programs\\python\\python311\\lib\\site-packages (from pandas) (2022.7.1)\n",
      "Requirement already satisfied: tzdata>=2022.7 in c:\\users\\acer\\appdata\\local\\programs\\python\\python311\\lib\\site-packages (from pandas) (2025.1)\n",
      "Requirement already satisfied: scipy>=1.6.0 in c:\\users\\acer\\appdata\\local\\programs\\python\\python311\\lib\\site-packages (from scikit-learn) (1.15.2)\n",
      "Requirement already satisfied: joblib>=1.2.0 in c:\\users\\acer\\appdata\\local\\programs\\python\\python311\\lib\\site-packages (from scikit-learn) (1.4.2)\n",
      "Requirement already satisfied: threadpoolctl>=3.1.0 in c:\\users\\acer\\appdata\\local\\programs\\python\\python311\\lib\\site-packages (from scikit-learn) (3.5.0)\n",
      "Requirement already satisfied: aiohappyeyeballs>=2.3.0 in c:\\users\\acer\\appdata\\local\\programs\\python\\python311\\lib\\site-packages (from aiohttp->datasets) (2.4.6)\n",
      "Requirement already satisfied: aiosignal>=1.1.2 in c:\\users\\acer\\appdata\\local\\programs\\python\\python311\\lib\\site-packages (from aiohttp->datasets) (1.3.2)\n",
      "Requirement already satisfied: attrs>=17.3.0 in c:\\users\\acer\\appdata\\local\\programs\\python\\python311\\lib\\site-packages (from aiohttp->datasets) (25.1.0)\n",
      "Requirement already satisfied: frozenlist>=1.1.1 in c:\\users\\acer\\appdata\\local\\programs\\python\\python311\\lib\\site-packages (from aiohttp->datasets) (1.5.0)\n",
      "Requirement already satisfied: multidict<7.0,>=4.5 in c:\\users\\acer\\appdata\\local\\programs\\python\\python311\\lib\\site-packages (from aiohttp->datasets) (6.1.0)\n",
      "Requirement already satisfied: propcache>=0.2.0 in c:\\users\\acer\\appdata\\local\\programs\\python\\python311\\lib\\site-packages (from aiohttp->datasets) (0.2.1)\n",
      "Requirement already satisfied: yarl<2.0,>=1.17.0 in c:\\users\\acer\\appdata\\local\\programs\\python\\python311\\lib\\site-packages (from aiohttp->datasets) (1.18.3)\n",
      "Requirement already satisfied: six>=1.5 in c:\\users\\acer\\appdata\\local\\programs\\python\\python311\\lib\\site-packages (from python-dateutil>=2.8.2->pandas) (1.17.0)\n",
      "Requirement already satisfied: charset-normalizer<4,>=2 in c:\\users\\acer\\appdata\\local\\programs\\python\\python311\\lib\\site-packages (from requests->transformers) (3.4.1)\n",
      "Requirement already satisfied: idna<4,>=2.5 in c:\\users\\acer\\appdata\\local\\programs\\python\\python311\\lib\\site-packages (from requests->transformers) (3.10)\n",
      "Requirement already satisfied: urllib3<3,>=1.21.1 in c:\\users\\acer\\appdata\\local\\programs\\python\\python311\\lib\\site-packages (from requests->transformers) (1.26.20)\n",
      "Requirement already satisfied: certifi>=2017.4.17 in c:\\users\\acer\\appdata\\local\\programs\\python\\python311\\lib\\site-packages (from requests->transformers) (2025.1.31)\n",
      "Requirement already satisfied: colorama in c:\\users\\acer\\appdata\\local\\programs\\python\\python311\\lib\\site-packages (from tqdm>=4.27->transformers) (0.4.6)\n",
      "Requirement already satisfied: MarkupSafe>=2.0 in c:\\users\\acer\\appdata\\local\\programs\\python\\python311\\lib\\site-packages (from jinja2->torch) (3.0.2)\n",
      "\n"
     ]
    },
    {
     "name": "stderr",
     "output_type": "stream",
     "text": [
      "\n",
      "[notice] A new release of pip available: 22.3 -> 25.0.1\n",
      "[notice] To update, run: python.exe -m pip install --upgrade pip\n"
     ]
    }
   ],
   "source": [
    "pip install transformers datasets seqeval torch pandas scikit-learn\n"
   ]
  },
  {
   "cell_type": "markdown",
   "metadata": {},
   "source": [
    "🔹 \n",
    "Step 2: Load and Process the ner_data.txt"
   ]
  },
  {
   "cell_type": "code",
   "execution_count": 3,
   "metadata": {},
   "outputs": [
    {
     "name": "stderr",
     "output_type": "stream",
     "text": [
      "c:\\Users\\Acer\\AppData\\Local\\Programs\\Python\\Python311\\Lib\\site-packages\\tqdm\\auto.py:21: TqdmWarning: IProgress not found. Please update jupyter and ipywidgets. See https://ipywidgets.readthedocs.io/en/stable/user_install.html\n",
      "  from .autonotebook import tqdm as notebook_tqdm\n"
     ]
    }
   ],
   "source": [
    "from datasets import Dataset\n",
    "import pandas as pd\n",
    "\n",
    "# Read the ner_data.txt file\n",
    "with open(\"ner_data.txt\", \"r\") as f:\n",
    "    lines = f.readlines()\n",
    "\n",
    "sentences = []\n",
    "labels = []\n",
    "current_sentence = []\n",
    "current_labels = []\n",
    "\n",
    "for line in lines:\n",
    "    if line.strip():  # If the line is not empty\n",
    "        token, label = line.strip().split(\" \")\n",
    "        current_sentence.append(token)\n",
    "        current_labels.append(label)\n",
    "    else:  # Empty line means a new sentence\n",
    "        if current_sentence:\n",
    "            sentences.append(current_sentence)\n",
    "            labels.append(current_labels)\n",
    "            current_sentence = []\n",
    "            current_labels = []\n",
    "\n",
    "# Convert to Hugging Face dataset format\n",
    "dataset = Dataset.from_dict({\"tokens\": sentences, \"ner_tags\": labels})\n",
    "dataset = dataset.train_test_split(test_size=0.2)\n",
    "\n",
    "train_dataset = dataset[\"train\"]\n",
    "test_dataset = dataset[\"test\"]\n"
   ]
  },
  {
   "cell_type": "markdown",
   "metadata": {},
   "source": [
    "🔹 Step 3: Tokenizing with RoBERTa"
   ]
  },
  {
   "cell_type": "code",
   "execution_count": 5,
   "metadata": {},
   "outputs": [
    {
     "name": "stderr",
     "output_type": "stream",
     "text": [
      "Map: 100%|██████████| 36/36 [00:00<00:00, 92.88 examples/s]\n",
      "Map: 100%|██████████| 10/10 [00:00<00:00, 327.57 examples/s]\n"
     ]
    }
   ],
   "source": [
    "from transformers import RobertaTokenizerFast\n",
    "\n",
    "# Load the tokenizer\n",
    "model_name = \"roberta-base\"\n",
    "tokenizer = RobertaTokenizerFast.from_pretrained(model_name, add_prefix_space=True)\n",
    "\n",
    "\n",
    "# Define label mapping\n",
    "label_list = [\"O\", \"B-AGE\", \"I-AGE\", \"B-GEN\", \"I-GEN\", \"B-LOC\", \"I-LOC\",\n",
    "              \"B-SKILL\", \"I-SKILL\", \"B-EDU\", \"I-EDU\", \"B-EXP\", \"I-EXP\",\n",
    "              \"B-CERT\", \"I-CERT\"]\n",
    "\n",
    "label_map = {label: i for i, label in enumerate(label_list)}\n",
    "\n",
    "# Tokenize the dataset\n",
    "def tokenize_and_align_labels(examples):\n",
    "    tokenized_inputs = tokenizer(examples[\"tokens\"], truncation=True, is_split_into_words=True, padding=\"max_length\", max_length=128)\n",
    "\n",
    "    labels = []\n",
    "    for i, label in enumerate(examples[\"ner_tags\"]):\n",
    "        word_ids = tokenized_inputs.word_ids(batch_index=i)  # Map tokens to words\n",
    "        label_ids = []\n",
    "        previous_word_idx = None\n",
    "\n",
    "        for word_idx in word_ids:\n",
    "            if word_idx is None:\n",
    "                label_ids.append(-100)  # Ignore these tokens\n",
    "            elif word_idx != previous_word_idx:\n",
    "                label_ids.append(label_map[label[word_idx]])  # Use B- or I- label\n",
    "            else:\n",
    "                label_ids.append(label_map[label[word_idx]])  # Continue I- label\n",
    "\n",
    "            previous_word_idx = word_idx\n",
    "\n",
    "        labels.append(label_ids)\n",
    "\n",
    "    tokenized_inputs[\"labels\"] = labels\n",
    "    return tokenized_inputs\n",
    "\n",
    "# Apply tokenization\n",
    "train_dataset = train_dataset.map(tokenize_and_align_labels, batched=True)\n",
    "test_dataset = test_dataset.map(tokenize_and_align_labels, batched=True)\n"
   ]
  },
  {
   "cell_type": "markdown",
   "metadata": {},
   "source": [
    "🔹 Step 4: Define the RoBERTa Model"
   ]
  },
  {
   "cell_type": "code",
   "execution_count": 6,
   "metadata": {},
   "outputs": [
    {
     "name": "stderr",
     "output_type": "stream",
     "text": [
      "c:\\Users\\Acer\\AppData\\Local\\Programs\\Python\\Python311\\Lib\\site-packages\\huggingface_hub\\file_download.py:140: UserWarning: `huggingface_hub` cache-system uses symlinks by default to efficiently store duplicated files but your machine does not support them in C:\\Users\\Acer\\.cache\\huggingface\\hub\\models--roberta-base. Caching files will still work but in a degraded version that might require more space on your disk. This warning can be disabled by setting the `HF_HUB_DISABLE_SYMLINKS_WARNING` environment variable. For more details, see https://huggingface.co/docs/huggingface_hub/how-to-cache#limitations.\n",
      "To support symlinks on Windows, you either need to activate Developer Mode or to run Python as an administrator. In order to activate developer mode, see this article: https://docs.microsoft.com/en-us/windows/apps/get-started/enable-your-device-for-development\n",
      "  warnings.warn(message)\n",
      "Some weights of RobertaForTokenClassification were not initialized from the model checkpoint at roberta-base and are newly initialized: ['classifier.bias', 'classifier.weight']\n",
      "You should probably TRAIN this model on a down-stream task to be able to use it for predictions and inference.\n"
     ]
    }
   ],
   "source": [
    "from transformers import RobertaForTokenClassification\n",
    "\n",
    "# Load the pre-trained RoBERTa model for token classification\n",
    "model = RobertaForTokenClassification.from_pretrained(\n",
    "    model_name,\n",
    "    num_labels=len(label_list),\n",
    "    id2label={i: label for i, label in enumerate(label_list)},\n",
    "    label2id={label: i for i, label in enumerate(label_list)}\n",
    ")\n"
   ]
  },
  {
   "cell_type": "markdown",
   "metadata": {},
   "source": [
    "🔹 Step 5: Train the Model"
   ]
  },
  {
   "cell_type": "code",
   "execution_count": 7,
   "metadata": {},
   "outputs": [
    {
     "name": "stderr",
     "output_type": "stream",
     "text": [
      "c:\\Users\\Acer\\AppData\\Local\\Programs\\Python\\Python311\\Lib\\site-packages\\transformers\\training_args.py:1575: FutureWarning: `evaluation_strategy` is deprecated and will be removed in version 4.46 of 🤗 Transformers. Use `eval_strategy` instead\n",
      "  warnings.warn(\n",
      "C:\\Users\\Acer\\AppData\\Local\\Temp\\ipykernel_5772\\3668834147.py:19: FutureWarning: `tokenizer` is deprecated and will be removed in version 5.0.0 for `Trainer.__init__`. Use `processing_class` instead.\n",
      "  trainer = Trainer(\n"
     ]
    },
    {
     "data": {
      "text/html": [
       "\n",
       "    <div>\n",
       "      \n",
       "      <progress value='25' max='25' style='width:300px; height:20px; vertical-align: middle;'></progress>\n",
       "      [25/25 03:00, Epoch 5/5]\n",
       "    </div>\n",
       "    <table border=\"1\" class=\"dataframe\">\n",
       "  <thead>\n",
       " <tr style=\"text-align: left;\">\n",
       "      <th>Epoch</th>\n",
       "      <th>Training Loss</th>\n",
       "      <th>Validation Loss</th>\n",
       "    </tr>\n",
       "  </thead>\n",
       "  <tbody>\n",
       "    <tr>\n",
       "      <td>1</td>\n",
       "      <td>2.395300</td>\n",
       "      <td>2.046999</td>\n",
       "    </tr>\n",
       "    <tr>\n",
       "      <td>2</td>\n",
       "      <td>1.640800</td>\n",
       "      <td>1.628647</td>\n",
       "    </tr>\n",
       "    <tr>\n",
       "      <td>3</td>\n",
       "      <td>1.262900</td>\n",
       "      <td>1.418581</td>\n",
       "    </tr>\n",
       "    <tr>\n",
       "      <td>4</td>\n",
       "      <td>0.993700</td>\n",
       "      <td>1.255156</td>\n",
       "    </tr>\n",
       "    <tr>\n",
       "      <td>5</td>\n",
       "      <td>0.859800</td>\n",
       "      <td>1.182594</td>\n",
       "    </tr>\n",
       "  </tbody>\n",
       "</table><p>"
      ],
      "text/plain": [
       "<IPython.core.display.HTML object>"
      ]
     },
     "metadata": {},
     "output_type": "display_data"
    },
    {
     "data": {
      "text/plain": [
       "('output/model/ner_model\\\\tokenizer_config.json',\n",
       " 'output/model/ner_model\\\\special_tokens_map.json',\n",
       " 'output/model/ner_model\\\\vocab.json',\n",
       " 'output/model/ner_model\\\\merges.txt',\n",
       " 'output/model/ner_model\\\\added_tokens.json',\n",
       " 'output/model/ner_model\\\\tokenizer.json')"
      ]
     },
     "execution_count": 7,
     "metadata": {},
     "output_type": "execute_result"
    }
   ],
   "source": [
    "from transformers import TrainingArguments, Trainer\n",
    "import torch\n",
    "\n",
    "# Define training arguments\n",
    "training_args = TrainingArguments(\n",
    "    output_dir=\"output/train_args/ner_model\",\n",
    "    evaluation_strategy=\"epoch\",\n",
    "    save_strategy=\"epoch\",\n",
    "    logging_strategy=\"epoch\",\n",
    "    learning_rate=5e-5,\n",
    "    per_device_train_batch_size=8,\n",
    "    per_device_eval_batch_size=8,\n",
    "    num_train_epochs=5,\n",
    "    weight_decay=0.01,\n",
    "    push_to_hub=False,\n",
    ")\n",
    "\n",
    "# Define Trainer\n",
    "trainer = Trainer(\n",
    "    model=model,\n",
    "    args=training_args,\n",
    "    train_dataset=train_dataset,\n",
    "    eval_dataset=test_dataset,\n",
    "    tokenizer=tokenizer,\n",
    ")\n",
    "\n",
    "# Train the model\n",
    "trainer.train()\n",
    "\n",
    "# Save the trained model\n",
    "trainer.save_model(\"output/model/ner_model\")\n",
    "tokenizer.save_pretrained(\"output/model/ner_model\")\n"
   ]
  },
  {
   "cell_type": "markdown",
   "metadata": {},
   "source": [
    "🔹 Step 6: Load and Evaluate the Trained Model"
   ]
  },
  {
   "cell_type": "code",
   "execution_count": null,
   "metadata": {},
   "outputs": [],
   "source": [
    "import pandas as pd\n",
    "import evaluate\n",
    "from seqeval.metrics import classification_report\n",
    "\n",
    "# Load seqeval metric\n",
    "metric = evaluate.load(\"seqeval\")\n",
    "\n",
    "### STEP 1: Load True Labels from ner_data.txt ###\n",
    "def load_true_labels(file_path):\n",
    "    sentences, labels = [], []\n",
    "    sentence, label_seq = [], []\n",
    "\n",
    "    with open(file_path, \"r\", encoding=\"utf-8\") as file:\n",
    "        for line in file:\n",
    "            if line.strip():\n",
    "                word, tag = line.strip().split()\n",
    "                sentence.append(word)\n",
    "                label_seq.append(tag)\n",
    "            else:\n",
    "                if sentence:  # Avoid empty lists\n",
    "                    sentences.append(sentence)\n",
    "                    labels.append(label_seq)\n",
    "                sentence, label_seq = [], []\n",
    "    \n",
    "    # Add the last sentence if the file doesn't end with a newline\n",
    "    if sentence:\n",
    "        sentences.append(sentence)\n",
    "        labels.append(label_seq)\n",
    "\n",
    "    return labels  # List of lists containing labels\n",
    "\n",
    "true_labels = load_true_labels(\"ner_data.txt\")\n",
    "\n",
    "\n",
    "### STEP 2: Load Predicted Labels from predictions.csv ###\n",
    "def load_predicted_labels(csv_file):\n",
    "    df = pd.read_csv(csv_file)  # Load CSV\n",
    "    predicted_labels = [row.split() for row in df[\"Prediction\"].tolist()]\n",
    "    return predicted_labels  # List of lists containing predictions\n",
    "\n",
    "predicted_labels = load_predicted_labels(\"predictions.csv\")\n",
    "\n",
    "\n",
    "### STEP 3: Compute Evaluation Metrics ###\n",
    "def evaluate_ner_model(true_labels, predicted_labels):\n",
    "    \"\"\"\n",
    "    Evaluate the NER model using precision, recall, and F1-score.\n",
    "    \"\"\"\n",
    "    results = metric.compute(predictions=predicted_labels, references=true_labels)\n",
    "\n",
    "    print(\"Evaluation Metrics:\")\n",
    "    print(classification_report(true_labels, predicted_labels))\n",
    "\n",
    "# Run evaluation\n",
    "evaluate_ner_model(true_labels, predicted_labels)\n"
   ]
  },
  {
   "cell_type": "markdown",
   "metadata": {},
   "source": [
    "🔹 Step 7: Actual Text Resume testing / Human Evaluation\n"
   ]
  },
  {
   "cell_type": "code",
   "execution_count": 62,
   "metadata": {},
   "outputs": [
    {
     "name": "stderr",
     "output_type": "stream",
     "text": [
      "Device set to use cpu\n"
     ]
    },
    {
     "name": "stdout",
     "output_type": "stream",
     "text": [
      "[{'entity': 'B-LOC', 'score': 0.25582153, 'index': 1, 'word': 'Ġ\"', 'start': 0, 'end': 1}, {'entity': 'B-LOC', 'score': 0.27625707, 'index': 2, 'word': 'Ċ', 'start': 1, 'end': 2}, {'entity': 'B-LOC', 'score': 0.39380813, 'index': 3, 'word': 'Ġ', 'start': 3, 'end': 3}, {'entity': 'B-LOC', 'score': 0.30683574, 'index': 4, 'word': 'Ġ', 'start': 4, 'end': 4}, {'entity': 'B-LOC', 'score': 0.26208305, 'index': 5, 'word': 'Ġ', 'start': 5, 'end': 5}, {'entity': 'B-LOC', 'score': 0.26625317, 'index': 6, 'word': 'Ġ25', 'start': 6, 'end': 8}, {'entity': 'I-LOC', 'score': 0.16913983, 'index': 7, 'word': ',', 'start': 8, 'end': 9}, {'entity': 'B-LOC', 'score': 0.2467152, 'index': 8, 'word': 'Male', 'start': 9, 'end': 13}, {'entity': 'B-LOC', 'score': 0.3277546, 'index': 9, 'word': ',\"', 'start': 13, 'end': 15}, {'entity': 'B-LOC', 'score': 0.5216246, 'index': 10, 'word': 'P', 'start': 15, 'end': 16}, {'entity': 'I-LOC', 'score': 0.45797294, 'index': 11, 'word': '1', 'start': 16, 'end': 17}, {'entity': 'I-LOC', 'score': 0.86296535, 'index': 12, 'word': ',', 'start': 17, 'end': 18}, {'entity': 'I-LOC', 'score': 0.9525692, 'index': 13, 'word': 'ĠOng', 'start': 19, 'end': 22}, {'entity': 'I-LOC', 'score': 0.97419727, 'index': 14, 'word': 'ĠY', 'start': 23, 'end': 24}, {'entity': 'I-LOC', 'score': 0.9680026, 'index': 15, 'word': 'iu', 'start': 24, 'end': 26}, {'entity': 'I-LOC', 'score': 0.9720362, 'index': 16, 'word': ',', 'start': 26, 'end': 27}, {'entity': 'I-LOC', 'score': 0.98027885, 'index': 17, 'word': 'ĠBut', 'start': 28, 'end': 31}, {'entity': 'I-LOC', 'score': 0.9813182, 'index': 18, 'word': 'uan', 'start': 31, 'end': 34}, {'entity': 'I-LOC', 'score': 0.9756673, 'index': 19, 'word': 'ĠCity', 'start': 35, 'end': 39}, {'entity': 'I-LOC', 'score': 0.16804436, 'index': 20, 'word': '\",', 'start': 39, 'end': 41}, {'entity': 'I-EXP', 'score': 0.15758416, 'index': 21, 'word': 'Computer', 'start': 41, 'end': 49}, {'entity': 'I-EXP', 'score': 0.19856954, 'index': 22, 'word': 'ĠProgramming', 'start': 50, 'end': 61}, {'entity': 'I-EXP', 'score': 0.26334915, 'index': 23, 'word': ',', 'start': 61, 'end': 62}, {'entity': 'I-EDU', 'score': 0.29600465, 'index': 24, 'word': 'College', 'start': 62, 'end': 69}, {'entity': 'I-EDU', 'score': 0.5586511, 'index': 25, 'word': 'ĠGraduate', 'start': 70, 'end': 78}, {'entity': 'I-EXP', 'score': 0.31313258, 'index': 26, 'word': ',', 'start': 78, 'end': 79}, {'entity': 'I-EXP', 'score': 0.20099784, 'index': 27, 'word': 'Back', 'start': 79, 'end': 83}, {'entity': 'I-EXP', 'score': 0.1917452, 'index': 28, 'word': 'end', 'start': 83, 'end': 86}, {'entity': 'I-EXP', 'score': 0.24691932, 'index': 29, 'word': 'ĠWeb', 'start': 87, 'end': 90}, {'entity': 'B-EXP', 'score': 0.20132095, 'index': 30, 'word': 'ĠDeveloper', 'start': 91, 'end': 100}, {'entity': 'I-EXP', 'score': 0.27845064, 'index': 31, 'word': ',', 'start': 100, 'end': 101}, {'entity': 'I-EXP', 'score': 0.2130544, 'index': 32, 'word': 'Web', 'start': 101, 'end': 104}, {'entity': 'I-EXP', 'score': 0.17399818, 'index': 33, 'word': 'ĠDev', 'start': 105, 'end': 108}, {'entity': 'B-LOC', 'score': 0.11499924, 'index': 34, 'word': 'ĠNC', 'start': 109, 'end': 111}, {'entity': 'B-LOC', 'score': 0.11267567, 'index': 35, 'word': 'III', 'start': 111, 'end': 114}, {'entity': 'I-EXP', 'score': 0.12230382, 'index': 36, 'word': 'ĊĊ', 'start': 114, 'end': 116}]\n"
     ]
    }
   ],
   "source": [
    "from transformers import pipeline\n",
    "import re\n",
    "\n",
    "# Load the trained model\n",
    "ner_pipeline = pipeline(\"ner\", model=\"output/model/ner_model\", tokenizer=\"output/model/ner_model\")\n",
    "\n",
    "# Test on a new sentence\n",
    "text = \"\"\"\"\n",
    "    25,Male,\"P1, Ong Yiu, Butuan City\",Computer Programming,College Graduate,Backend Web Developer,Web Dev NCIII\n",
    "\n",
    "\"\"\"\n",
    "\n",
    "# Run NER model on the text\n",
    "\n",
    "print(ner_pipeline(text))\n",
    "# # Define characters to remove\n",
    "# remove_chars = r\"[ĠĊ./()\\-\\s]\"\n",
    "\n",
    "# # Get words and their predicted labels\n",
    "# extracted_entities = [\n",
    "#     {\"word\": re.sub(remove_chars, '', entry['word']), \"label\": entry['entity']}\n",
    "#     for entry in result\n",
    "# ]\n",
    "\n",
    "# # Print extracted entities with labels\n",
    "# for entity in extracted_entities:\n",
    "#     print(f\"Word: {entity['word']}, Label: {entity['label']}\")\n"
   ]
  }
 ],
 "metadata": {
  "kernelspec": {
   "display_name": "Python 3",
   "language": "python",
   "name": "python3"
  },
  "language_info": {
   "codemirror_mode": {
    "name": "ipython",
    "version": 3
   },
   "file_extension": ".py",
   "mimetype": "text/x-python",
   "name": "python",
   "nbconvert_exporter": "python",
   "pygments_lexer": "ipython3",
   "version": "3.11.0"
  }
 },
 "nbformat": 4,
 "nbformat_minor": 2
}
